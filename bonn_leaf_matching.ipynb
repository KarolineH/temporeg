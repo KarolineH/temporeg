{
 "cells": [
  {
   "cell_type": "code",
   "execution_count": 73,
   "id": "646d9ee9",
   "metadata": {},
   "outputs": [],
   "source": [
    "import os\n",
    "import matplotlib.pyplot as plt\n",
    "from mpl_toolkits.mplot3d import Axes3D\n",
    "import numpy as np\n",
    "from scipy.spatial import distance_matrix\n",
    "import leaf_encoding\n",
    "import organ_matching\n",
    "import packages.pheno4d_util as putil\n",
    "%matplotlib notebook"
   ]
  },
  {
   "cell_type": "markdown",
   "id": "3b2c82de",
   "metadata": {},
   "source": [
    "Load the transformation log files for each leaf, because they have the leaf centroid saves as the first coordinate."
   ]
  },
  {
   "cell_type": "code",
   "execution_count": 74,
   "id": "53d66b23",
   "metadata": {},
   "outputs": [],
   "source": [
    "transform_log_dir = os.path.join('/home', 'karolineheiwolt','workspace', 'data', 'Pheno4D', '_processed', 'transform_log')\n",
    "log_files = os.listdir(transform_log_dir)\n",
    "logs = np.asarray([np.load(os.path.join(transform_log_dir, leaf)) for leaf in log_files])\n",
    "centroids = logs[:,0,:]"
   ]
  },
  {
   "cell_type": "markdown",
   "id": "525688bc",
   "metadata": {},
   "source": [
    "Extract the labels from the file names, which allows for sorting and looping over the time steps."
   ]
  },
  {
   "cell_type": "code",
   "execution_count": 75,
   "id": "151d1dc8",
   "metadata": {},
   "outputs": [],
   "source": [
    "labels = leaf_encoding.get_labels(log_files)\n",
    "sorted_data, sorted_labels = putil.sort_examples(centroids, labels)"
   ]
  },
  {
   "cell_type": "code",
   "execution_count": 76,
   "id": "7bf578fb",
   "metadata": {},
   "outputs": [],
   "source": [
    "## Scatterplot to verify that the centroids are correct\n",
    "# fig = plt.figure(figsize=(10, 10))\n",
    "# ax = fig.add_subplot(2, 1, 1, projection='3d')\n",
    "# scatterplot = ax.scatter(xs=subset[:,0], ys=subset[:,1], zs=subset[:,2])\n",
    "# scatterplot = ax.scatter(xs=0, ys=0, zs=0, c='black')"
   ]
  },
  {
   "cell_type": "markdown",
   "id": "73e98ece",
   "metadata": {},
   "source": [
    "Loop over all pairs of time steps, evaluate with the Bonn method"
   ]
  },
  {
   "cell_type": "code",
   "execution_count": 77,
   "id": "3d0f144e",
   "metadata": {},
   "outputs": [],
   "source": [
    "count = 0\n",
    "total = 0\n",
    "for plant in np.unique(sorted_labels[:,0]):\n",
    "    for time_step in range(np.unique(sorted_labels[:,1]).size-1):\n",
    "        before, before_labels = leaf_encoding.select_subset(sorted_data, sorted_labels, plant_nr = plant, timestep=time_step, day=None, leaf=None)\n",
    "        after, after_labels = leaf_encoding.select_subset(sorted_data, sorted_labels, plant_nr = plant, timestep=time_step+1, day=None, leaf=None)\n",
    "        dist = distance_matrix(before, after)\n",
    "        # get assignment via Hunagrian Algorithm\n",
    "        match, legible_matches = organ_matching.compute_assignment(dist, before_labels, after_labels)\n",
    "        \n",
    "        for pair in legible_matches:\n",
    "                total += 1\n",
    "                if pair[0,-1] == pair[1,-1]:\n",
    "                    count += 1"
   ]
  },
  {
   "cell_type": "code",
   "execution_count": 80,
   "id": "855339a8",
   "metadata": {},
   "outputs": [
    {
     "name": "stdout",
     "output_type": "stream",
     "text": [
      "216\n",
      "417\n"
     ]
    }
   ],
   "source": [
    "print(count)\n",
    "print(total)"
   ]
  },
  {
   "cell_type": "code",
   "execution_count": 85,
   "id": "0025dd07",
   "metadata": {},
   "outputs": [
    {
     "data": {
      "text/plain": [
       "array([[[ 3,  9, 19,  2],\n",
       "        [ 3, 10, 20,  2]],\n",
       "\n",
       "       [[ 3,  9, 19,  3],\n",
       "        [ 3, 10, 20,  3]],\n",
       "\n",
       "       [[ 3,  9, 19,  4],\n",
       "        [ 3, 10, 20,  4]],\n",
       "\n",
       "       [[ 3,  9, 19,  5],\n",
       "        [ 3, 10, 20,  5]],\n",
       "\n",
       "       [[ 3,  9, 19,  6],\n",
       "        [ 3, 10, 20,  6]],\n",
       "\n",
       "       [[ 3,  9, 19,  7],\n",
       "        [ 3, 10, 20,  7]],\n",
       "\n",
       "       [[ 3,  9, 19,  8],\n",
       "        [ 3, 10, 20,  8]],\n",
       "\n",
       "       [[ 3,  9, 19,  9],\n",
       "        [ 3, 10, 20,  9]],\n",
       "\n",
       "       [[ 3,  9, 19, 10],\n",
       "        [ 3, 10, 20, 10]],\n",
       "\n",
       "       [[ 3,  9, 19, 11],\n",
       "        [ 3, 10, 20, 11]],\n",
       "\n",
       "       [[ 3,  9, 19, 12],\n",
       "        [ 3, 10, 20, 12]]])"
      ]
     },
     "execution_count": 85,
     "metadata": {},
     "output_type": "execute_result"
    }
   ],
   "source": [
    "legible_matches"
   ]
  },
  {
   "cell_type": "code",
   "execution_count": null,
   "id": "536675bc",
   "metadata": {},
   "outputs": [],
   "source": []
  }
 ],
 "metadata": {
  "kernelspec": {
   "display_name": "Python 3 (ipykernel)",
   "language": "python",
   "name": "python3"
  },
  "language_info": {
   "codemirror_mode": {
    "name": "ipython",
    "version": 3
   },
   "file_extension": ".py",
   "mimetype": "text/x-python",
   "name": "python",
   "nbconvert_exporter": "python",
   "pygments_lexer": "ipython3",
   "version": "3.8.10"
  }
 },
 "nbformat": 4,
 "nbformat_minor": 5
}
